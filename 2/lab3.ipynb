{
 "cells": [
  {
   "cell_type": "code",
   "execution_count": 18,
   "metadata": {},
   "outputs": [
    {
     "name": "stdout",
     "output_type": "stream",
     "text": [
      "[[-1.00905459]\n",
      " [-0.57918965]\n",
      " [-0.03873535]\n",
      " [ 0.8       ]]\n"
     ]
    }
   ],
   "source": [
    "import numpy\n",
    "import scipy.linalg\n",
    "\n",
    "m=numpy.matrix([\n",
    "[-6,7,0,0],\n",
    "[107225,-198000,92775,0],\n",
    "[0,10810,19800,9190],\n",
    "[0,0,0,10]\n",
    "])\n",
    "\n",
    "res=numpy.matrix([[2],[2890],[324],[8]])\n",
    "\n",
    "print(scipy.linalg.solve(m,res))"
   ]
  },
  {
   "cell_type": "code",
   "execution_count": null,
   "metadata": {},
   "outputs": [],
   "source": []
  }
 ],
 "metadata": {
  "kernelspec": {
   "display_name": "Python 3",
   "language": "python",
   "name": "python3"
  },
  "language_info": {
   "codemirror_mode": {
    "name": "ipython",
    "version": 3
   },
   "file_extension": ".py",
   "mimetype": "text/x-python",
   "name": "python",
   "nbconvert_exporter": "python",
   "pygments_lexer": "ipython3",
   "version": "3.7.4"
  }
 },
 "nbformat": 4,
 "nbformat_minor": 2
}
